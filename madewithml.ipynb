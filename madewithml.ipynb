{
 "cells": [
  {
   "cell_type": "code",
   "execution_count": 1,
   "id": "4d5cd05b",
   "metadata": {},
   "outputs": [
    {
     "name": "stderr",
     "output_type": "stream",
     "text": [
      "2025-01-19 20:06:28,786\tINFO worker.py:1752 -- Started a local Ray instance.\n",
      "c:\\Users\\steph\\Desktop\\maia_DS_stuff\\madewithml\\venv\\lib\\site-packages\\ray\\_private\\worker.py:1183: UserWarning: len(ctx) is deprecated. Use len(ctx.address_info) instead.\n",
      "  warnings.warn(\"len(ctx) is deprecated. Use len(ctx.address_info) instead.\")\n",
      "2025-01-19 20:06:34,158\tINFO worker.py:1752 -- Started a local Ray instance.\n"
     ]
    },
    {
     "name": "stdout",
     "output_type": "stream",
     "text": [
      "Cluster resources: {'memory': 11347193856.0, 'object_store_memory': 5673596928.0, 'node:127.0.0.1': 1.0, 'CPU': 16.0, 'accelerator_type:G': 1.0, 'GPU': 1.0, 'node:__internal_head__': 1.0}\n",
      "Number of workers: 14\n",
      "Resources per worker: {'CPU': 1, 'GPU': 0}\n"
     ]
    }
   ],
   "source": [
    "import ray\n",
    "\n",
    "# to initialize ray\n",
    "if ray.init():\n",
    "    ray.shutdown()\n",
    "ray.init()\n",
    "\n",
    "# to check cluster resources\n",
    "resources = ray.cluster_resources()\n",
    "print(\"Cluster resources:\", resources)\n",
    "\n",
    "# to set the number of workers (adjust as needed based on resources)\n",
    "workerNum = max(int(resources.get('CPU', 1)) - 2, 1)  # subtract 2 to leave room for other tasks\n",
    "workerReso = {\"CPU\": 1, \"GPU\": 0}\n",
    "\n",
    "print(f\"Number of workers: {workerNum}\")\n",
    "print(f\"Resources per worker: {workerReso}\")"
   ]
  }
 ],
 "metadata": {
  "kernelspec": {
   "display_name": "venv",
   "language": "python",
   "name": "python3"
  },
  "language_info": {
   "codemirror_mode": {
    "name": "ipython",
    "version": 3
   },
   "file_extension": ".py",
   "mimetype": "text/x-python",
   "name": "python",
   "nbconvert_exporter": "python",
   "pygments_lexer": "ipython3",
   "version": "3.8.20"
  }
 },
 "nbformat": 4,
 "nbformat_minor": 5
}
